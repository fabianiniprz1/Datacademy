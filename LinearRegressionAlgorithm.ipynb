{
  "nbformat": 4,
  "nbformat_minor": 0,
  "metadata": {
    "colab": {
      "name": "LinearRegressionAlgorithm.ipynb",
      "provenance": [],
      "authorship_tag": "ABX9TyNMh46DthHwdtdjfgYgzZi4",
      "include_colab_link": true
    },
    "kernelspec": {
      "name": "python3",
      "display_name": "Python 3"
    },
    "language_info": {
      "name": "python"
    }
  },
  "cells": [
    {
      "cell_type": "markdown",
      "metadata": {
        "id": "view-in-github",
        "colab_type": "text"
      },
      "source": [
        "<a href=\"https://colab.research.google.com/github/fabianunivalle/Datacademy/blob/master/LinearRegressionAlgorithm.ipynb\" target=\"_parent\"><img src=\"https://colab.research.google.com/assets/colab-badge.svg\" alt=\"Open In Colab\"/></a>"
      ]
    },
    {
      "cell_type": "code",
      "metadata": {
        "id": "Q7QXk5vSVgVN"
      },
      "source": [
        "import numpy as np\n",
        "import matplotlib.pyplot as plt"
      ],
      "execution_count": 1,
      "outputs": []
    },
    {
      "cell_type": "code",
      "metadata": {
        "id": "bEshNfrwV0lB"
      },
      "source": [
        "def estimate_b0_b1(x, y):\n",
        "    n = np.size(x)\n",
        "    #get x and y average\n",
        "    m_x, m_y = np.mean(x), np.mean(y)\n",
        "\n",
        "    #Calculate summation of XY and XX\n",
        "    summation_xy = np.sum((x-m_x)*(y-m_y))\n",
        "    summation_xx = np.sum((x-m_x)**2)\n",
        "\n",
        "    #regression coefficients\n",
        "    b_1 = summation_xy/summation_xx\n",
        "    b_0 = m_y - b_1 * m_x\n",
        "\n",
        "    return(b_0, b_1)\n"
      ],
      "execution_count": 2,
      "outputs": []
    },
    {
      "cell_type": "code",
      "metadata": {
        "id": "FVwBOdgaZM2w"
      },
      "source": [
        "  #graphing\n",
        "  def plot_regression(x,y,b):\n",
        "    plt.scatter(x,y, color = \"g\", marker= \"o\",s= 30)\n",
        "    \n",
        "    y_pred = b[0]+b[1]*x\n",
        "    plt.plot(x, y_pred, color = \"b\")\n",
        "\n",
        "    #labelled\n",
        "    plt.xlabel('x-indepent')\n",
        "    plt.ylabel('y-dependet')\n",
        "\n",
        "    plt.show()\n",
        "\n"
      ],
      "execution_count": 3,
      "outputs": []
    },
    {
      "cell_type": "code",
      "metadata": {
        "id": "xL7yc8XNaNP4"
      },
      "source": [
        "#main code\n",
        "\n",
        "def main():\n",
        "    #dataset\n",
        "    x = np.array([1,2,3,4,5])\n",
        "    y = np.array([2,3,5,6,5])\n",
        "\n",
        "    #get b0 and b2\n",
        "    b = estimate_b0_b1(x,y)\n",
        "    print(\"The values of b0 = {}, b1 = {}\".format(b[0],b[1]))\n",
        "\n",
        "    #graphing\n",
        "    plot_regression(x,y,b)"
      ],
      "execution_count": 4,
      "outputs": []
    },
    {
      "cell_type": "code",
      "metadata": {
        "colab": {
          "base_uri": "https://localhost:8080/",
          "height": 297
        },
        "id": "YDAXD-aNbdre",
        "outputId": "0e37ea98-a99b-4572-c904-b19d1ea56931"
      },
      "source": [
        "if __name__ == '__main__':\n",
        "    main()"
      ],
      "execution_count": 5,
      "outputs": [
        {
          "output_type": "stream",
          "text": [
            "The values of b0 = 1.5, b1 = 0.9\n"
          ],
          "name": "stdout"
        },
        {
          "output_type": "display_data",
          "data": {
            "image/png": "[encoded data removed]",
            "text/plain": [
              "<Figure size 432x288 with 1 Axes>"
            ]
          },
          "metadata": {
            "tags": [],
            "needs_background": "light"
          }
        }
      ]
    },
    {
      "cell_type": "code",
      "metadata": {
        "id": "DbEJHVavbkFW"
      },
      "source": [
        ""
      ],
      "execution_count": null,
      "outputs": []
    }
  ]
}